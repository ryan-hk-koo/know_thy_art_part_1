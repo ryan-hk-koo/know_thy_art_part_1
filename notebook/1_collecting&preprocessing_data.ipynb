{
 "cells": [
  {
   "cell_type": "markdown",
   "id": "43579481",
   "metadata": {},
   "source": [
    "**Note** :\n",
    "\n",
    "- For demonstration purposes, the code snippets provided below and in other notebooks showcase the processes using the \"Impressionism\" style\n",
    "- The same methodologies were applied to all 15 styles in the project"
   ]
  },
  {
   "cell_type": "markdown",
   "id": "937ffb62",
   "metadata": {},
   "source": [
    "# Web Scraping"
   ]
  },
  {
   "cell_type": "markdown",
   "id": "c6aeeb2a",
   "metadata": {},
   "source": [
    "## Collecting URLs "
   ]
  },
  {
   "cell_type": "code",
   "execution_count": 2,
   "id": "110dbddc",
   "metadata": {},
   "outputs": [],
   "source": [
    "from selenium import webdriver\n",
    "from selenium.webdriver.chrome.service import Service\n",
    "from webdriver_manager.chrome import ChromeDriverManager\n",
    "from selenium.webdriver.common.by import By\n",
    "from selenium.webdriver.common.keys import Keys\n",
    "from selenium.webdriver import ActionChains\n",
    "from bs4 import BeautifulSoup\n",
    "import time\n",
    "import re\n",
    "from pandas import Series, DataFrame\n",
    "import pandas as pd\n",
    "from urllib.request import urlopen\n",
    "from selenium.webdriver.chrome.options import Options\n",
    "\n",
    "# Configure Chrome options to disable notifications\n",
    "opt = Options()\n",
    "opt.add_experimental_option('prefs', {'profile.default_content_setting_values.notifications': 1}) # Disable popup windows\n",
    "\n",
    "# Define the URL to scrape\n",
    "url = 'https://www.wikiart.org/en/paintings-by-style/impressionism?select=featured#!#filterName:featured,viewType:masonry'\n",
    "\n",
    "# Set up the Chrome WebDriver with the specified options\n",
    "driver = webdriver.Chrome(service=Service(ChromeDriverManager().install()), options=opt)\n",
    "# Install and initialize Chrome WebDriver using the ChromeDriverManager\n",
    "driver.get(url)  # Open the specified URL\n",
    "driver.maximize_window()  # Maximize the browser window\n",
    "\n",
    "# Close the initial popup (wait 20 seconds to ensure the popup is present)\n",
    "time.sleep(20)\n",
    "driver.find_element(By.CSS_SELECTOR, 'body > div:nth-child(13) > div > div > div > div > div > div > button').click()\n",
    "# Locate the popup close button and click it\n",
    "\n",
    "# Scroll down to load more content and show all the paintings on the browser\n",
    "for i in range(100):\n",
    "    try : \n",
    "        driver.find_element(By.TAG_NAME, 'body').send_keys(Keys.END)  # Scroll to the end of the page\n",
    "        time.sleep(2)\n",
    "        driver.find_element(By.XPATH, '/html/body/div[2]/div[1]/section/main/div[3]/div/div/div[2]/a/span[3]').click()\n",
    "        # Click the \"Load More\" button to load additional content\n",
    "        time.sleep(2)\n",
    "    except : \n",
    "        pass\n",
    "\n",
    "# Extract the HTML source code after scrolling\n",
    "html = driver.page_source\n",
    "soup = BeautifulSoup(html, 'html.parser')  # Parse the HTML source using BeautifulSoup\n",
    "soup = soup.select('li > div > a.artwork-name.ng-binding')  # Select specific elements using CSS selectors\n",
    "\n",
    "# Collect URLs of the artworks\n",
    "ip_url = []\n",
    "for i in soup:\n",
    "    ip_url.append('https://www.wikiart.org' + i.attrs['href'])\n",
    "# Create a list of artwork URLs by appending the base URL and href attribute"
   ]
  },
  {
   "cell_type": "code",
   "execution_count": 3,
   "id": "74d57ea1",
   "metadata": {},
   "outputs": [
    {
     "name": "stdout",
     "output_type": "stream",
     "text": [
      "3600\n"
     ]
    }
   ],
   "source": [
    "# Print the number of collected URLs\n",
    "\n",
    "print(len(ip_url))  # Total number of collected URLs (should be 3600)"
   ]
  },
  {
   "cell_type": "markdown",
   "id": "69ae287e",
   "metadata": {},
   "source": [
    "## Saving and Loading the URL list"
   ]
  },
  {
   "cell_type": "code",
   "execution_count": 5,
   "id": "63d98fe2",
   "metadata": {},
   "outputs": [],
   "source": [
    "import pickle\n",
    "\n",
    "# Save the list of URLs to a pickle file for later use\n",
    "file = open(\"c:/data/ip_url.txt\", \"wb\")\n",
    "pickle.dump(ip_url, file)  # Dump the list to the pickle file\n",
    "file.close()  # Close the file"
   ]
  },
  {
   "cell_type": "code",
   "execution_count": 2,
   "id": "5a633362",
   "metadata": {},
   "outputs": [],
   "source": [
    "import pickle\n",
    "\n",
    "# Load the list of URLs from the pickle file\n",
    "file = open(\"c:/data/ip_url.txt\", \"rb\")\n",
    "ip_url = pickle.load(file)\n",
    "file.close()"
   ]
  },
  {
   "cell_type": "markdown",
   "id": "a02b76b8",
   "metadata": {},
   "source": [
    "<br>"
   ]
  },
  {
   "cell_type": "markdown",
   "id": "68358494",
   "metadata": {},
   "source": [
    "## Creating a Dataset "
   ]
  },
  {
   "cell_type": "markdown",
   "id": "63f2f98d",
   "metadata": {},
   "source": [
    "- Created a dataset using the URL list for the impressionism style"
   ]
  },
  {
   "cell_type": "code",
   "execution_count": null,
   "id": "4fa4ad3b",
   "metadata": {},
   "outputs": [],
   "source": [
    "from selenium import webdriver\n",
    "from selenium.webdriver.chrome.service import Service\n",
    "from webdriver_manager.chrome import ChromeDriverManager\n",
    "from selenium.webdriver.common.by import By\n",
    "from selenium.webdriver.common.keys import Keys\n",
    "from selenium.webdriver import ActionChains\n",
    "from bs4 import BeautifulSoup\n",
    "import time\n",
    "import re\n",
    "from pandas import Series, DataFrame\n",
    "import pandas as pd\n",
    "from urllib.request import urlopen\n",
    "from selenium.webdriver.chrome.options import Options\n",
    "from urllib import parse\n",
    "import pickle\n",
    "\n",
    "# Initialize an empty DataFrame for the collected data\n",
    "dataset_ip = DataFrame(columns=['Title', 'Painter', 'Original Title', 'Date', 'Style', 'Period', 'Series', 'Genre', 'Media', 'Location', 'Dimensions', 'Img_url', 'Tags'])\n",
    "failed_url_ip = []  # Store URLs that fail to be scraped\n",
    "\n",
    "# Loop through the list of URLs and scrape data\n",
    "for n in range(len(ip_url)):\n",
    "    try:\n",
    "        dic = {}  # Create a dictionary to store scraped data\n",
    "        scheme, netloc, path, query, fragment = parse.urlsplit(ip_url[n]) # For failed links because they have French alphabets \n",
    "        path = parse.quote(path) # For failed links because they have French alphabets \n",
    "        link = parse.urlunsplit((scheme, netloc, path, query, fragment)) # For failed links because they have French alphabets \n",
    "        html = urlopen(link)  # Open the URL and retrieve the HTML content\n",
    "        soup = BeautifulSoup(html, 'html.parser')  # Parse the HTML content using BeautifulSoup\n",
    "        \n",
    "        # Extract specific data from the HTML structure\n",
    "        dic['Title'] = soup.select_one('article > h3').text.strip()\n",
    "        dic['Painter'] = soup.select_one('article > h5').text.strip()\n",
    "       \n",
    "        # Extract additional data from list items\n",
    "        for i in soup.select('article > ul > li'):\n",
    "            try:\n",
    "                key = i.text.strip().replace('\\n', '').split(':')[0]\n",
    "                value = i.text.strip().replace('\\n', '').split(':')[1].strip()\n",
    "                if key not in dic.keys():\n",
    "                    dic[key] = value\n",
    "            except:\n",
    "                continue\n",
    "           \n",
    "        dic['Img_url'] = soup.select_one('aside > div > img').attrs['src']\n",
    "        dic['Tags'] = ', '.join([i.text.strip() for i in soup.select('a.tags-cheaps__item__ref')])  # Extract tags\n",
    "        \n",
    "        # Create a temporary DataFrame and concatenate it with the main dataset\n",
    "        temp = DataFrame(Series(dic)).transpose()\n",
    "        dataset_ip = pd.concat([dataset_ip, temp], ignore_index=True)\n",
    "        # print(f'Successfully collected info for painting number {n}')  # Print success message\n",
    "    \n",
    "    except:\n",
    "        failed_url_ip.append(ip_url[n])  # Store failed URLs in the list\n",
    "        # print(f'Failed to collect info for painting number {n}')  # Print failure message"
   ]
  },
  {
   "cell_type": "code",
   "execution_count": 10,
   "id": "c2bae6e0",
   "metadata": {},
   "outputs": [
    {
     "data": {
      "text/plain": [
       "['https://www.wikiart.org/en/claude-monet/landscape-on-the-ile-saint-martin']"
      ]
     },
     "execution_count": 10,
     "metadata": {},
     "output_type": "execute_result"
    }
   ],
   "source": [
    "# Failed to collect info for painting number 2695\n",
    "\n",
    "failed_url_ip"
   ]
  },
  {
   "cell_type": "markdown",
   "id": "2a20c9b3",
   "metadata": {},
   "source": [
    "- Rerun the failed_url to add it to the dataset"
   ]
  },
  {
   "cell_type": "code",
   "execution_count": 30,
   "id": "601383b7",
   "metadata": {},
   "outputs": [
    {
     "name": "stdout",
     "output_type": "stream",
     "text": [
      "Successfully collected info for painting number 0\n"
     ]
    }
   ],
   "source": [
    "n = 0  # Initialize a counter for the number of URLs processed\n",
    "\n",
    "# Loop through each URL in the failed_url_ip list\n",
    "for i in failed_url_ip:\n",
    "    try:\n",
    "        dic = {}  # Initialize an empty dictionary to store data\n",
    "        \n",
    "        # Split the URL into its components\n",
    "        scheme, netloc, path, query, fragment = parse.urlsplit(i)\n",
    "        # Quote the path to handle any special characters\n",
    "        path = parse.quote(path)\n",
    "        # Reconstruct the URL with the quoted path\n",
    "        link = parse.urlunsplit((scheme, netloc, path, query, fragment))\n",
    "        \n",
    "        # Open the URL and parse the HTML\n",
    "        html = urlopen(link)\n",
    "        soup = BeautifulSoup(html,'html.parser')\n",
    "        \n",
    "        # Extract the title and painter's name and store them in the dictionary\n",
    "        dic['Title'] = soup.select_one('article > h3').text.strip()\n",
    "        dic['Painter'] = soup.select_one('article > h5').text.strip()\n",
    "        \n",
    "        # Extract additional information from the article's list items\n",
    "        for i in soup.select('article > ul > li'):\n",
    "            try:\n",
    "                key = i.text.strip().replace('\\n', '').split(':')[0]  # Extract the key (before the colon)\n",
    "                value = i.text.strip().replace('\\n', '').split(':')[1].strip()  # Extract the value (after the colon)\n",
    "                # Check if the key is not already in the dictionary, then add the key-value pair\n",
    "                if key not in dic.keys():\n",
    "                    dic[key] = value\n",
    "            except:\n",
    "                # Continue to the next iteration if there's an error in extracting key-value pair\n",
    "                continue\n",
    "        \n",
    "        # Extract the image URL and tags, and store them in the dictionary\n",
    "        dic['Img_url'] = soup.select_one('aside > div > img').attrs['src']\n",
    "        dic['Tags'] = ', '.join([i.text.strip() for i in soup.select('a.tags-cheaps__item__ref')])  # Extract tags\n",
    "        \n",
    "        # Convert the dictionary to a DataFrame and append it to the existing dataset\n",
    "        temp = DataFrame(Series(dic)).transpose()\n",
    "        dataset_ip = pd.concat([dataset_ip,temp],ignore_index=True)\n",
    "        \n",
    "        # Print success message\n",
    "        print(f'Successfully collected info for painting number {n}')\n",
    "        \n",
    "    except:\n",
    "        # Print error message if there's an exception during data collection\n",
    "        print(f'Failed to collect info for painting number {n}')\n",
    "    \n",
    "    # Increment the counter\n",
    "    n += 1"
   ]
  },
  {
   "cell_type": "code",
   "execution_count": 49,
   "id": "40a83e42",
   "metadata": {},
   "outputs": [
    {
     "name": "stdout",
     "output_type": "stream",
     "text": [
      "<class 'pandas.core.frame.DataFrame'>\n",
      "RangeIndex: 3600 entries, 0 to 3599\n",
      "Data columns (total 14 columns):\n",
      " #   Column          Non-Null Count  Dtype  \n",
      "---  ------          --------------  -----  \n",
      " 0   Title           3600 non-null   object \n",
      " 1   Painter         3600 non-null   object \n",
      " 2   Original Title  343 non-null    object \n",
      " 3   Date            3557 non-null   object \n",
      " 4   Style           3600 non-null   object \n",
      " 5   Period          617 non-null    object \n",
      " 6   Series          76 non-null     object \n",
      " 7   Genre           3600 non-null   object \n",
      " 8   Media           2503 non-null   object \n",
      " 9   Location        2170 non-null   object \n",
      " 10  Dimensions      1333 non-null   object \n",
      " 11  Img_url         3600 non-null   object \n",
      " 12  Tags            3288 non-null   object \n",
      " 13  Share           0 non-null      float64\n",
      "dtypes: float64(1), object(13)\n",
      "memory usage: 393.9+ KB\n"
     ]
    }
   ],
   "source": [
    "dataset_ip.info()"
   ]
  },
  {
   "cell_type": "code",
   "execution_count": 38,
   "id": "42ec9c86",
   "metadata": {},
   "outputs": [
    {
     "data": {
      "text/html": [
       "<div>\n",
       "<style scoped>\n",
       "    .dataframe tbody tr th:only-of-type {\n",
       "        vertical-align: middle;\n",
       "    }\n",
       "\n",
       "    .dataframe tbody tr th {\n",
       "        vertical-align: top;\n",
       "    }\n",
       "\n",
       "    .dataframe thead th {\n",
       "        text-align: right;\n",
       "    }\n",
       "</style>\n",
       "<table border=\"1\" class=\"dataframe\">\n",
       "  <thead>\n",
       "    <tr style=\"text-align: right;\">\n",
       "      <th></th>\n",
       "      <th>Title</th>\n",
       "      <th>Painter</th>\n",
       "      <th>Original Title</th>\n",
       "      <th>Date</th>\n",
       "      <th>Style</th>\n",
       "      <th>Period</th>\n",
       "      <th>Series</th>\n",
       "      <th>Genre</th>\n",
       "      <th>Media</th>\n",
       "      <th>Location</th>\n",
       "      <th>Dimensions</th>\n",
       "      <th>Img_url</th>\n",
       "      <th>Tags</th>\n",
       "      <th>Share</th>\n",
       "    </tr>\n",
       "  </thead>\n",
       "  <tbody>\n",
       "    <tr>\n",
       "      <th>0</th>\n",
       "      <td>The Lake, Petworth, Sunset; Sample Study</td>\n",
       "      <td>J.M.W. Turner</td>\n",
       "      <td>NaN</td>\n",
       "      <td>c.1827 - c.1828</td>\n",
       "      <td>Romanticism,Impressionism</td>\n",
       "      <td>NaN</td>\n",
       "      <td>NaN</td>\n",
       "      <td>cloudscape,sketch and study</td>\n",
       "      <td>NaN</td>\n",
       "      <td>Tate Britain, London, UK</td>\n",
       "      <td>NaN</td>\n",
       "      <td>https://uploads5.wikiart.org/00246/images/will...</td>\n",
       "      <td>NaN</td>\n",
       "      <td>NaN</td>\n",
       "    </tr>\n",
       "    <tr>\n",
       "      <th>1</th>\n",
       "      <td>Portrait of the Artist by Himself</td>\n",
       "      <td>Johan Jongkind</td>\n",
       "      <td>NaN</td>\n",
       "      <td>c.1850</td>\n",
       "      <td>Impressionism</td>\n",
       "      <td>NaN</td>\n",
       "      <td>NaN</td>\n",
       "      <td>self-portrait</td>\n",
       "      <td>watercolor</td>\n",
       "      <td>Musée d'Orsay, Paris, France</td>\n",
       "      <td>20.5 x 17 cm</td>\n",
       "      <td>https://uploads4.wikiart.org/00283/images/joha...</td>\n",
       "      <td>NaN</td>\n",
       "      <td>NaN</td>\n",
       "    </tr>\n",
       "    <tr>\n",
       "      <th>2</th>\n",
       "      <td>Landscape at Valery-sur-Somme</td>\n",
       "      <td>Edgar Degas</td>\n",
       "      <td>NaN</td>\n",
       "      <td>1854</td>\n",
       "      <td>Impressionism</td>\n",
       "      <td>NaN</td>\n",
       "      <td>NaN</td>\n",
       "      <td>landscape</td>\n",
       "      <td>oil,canvas</td>\n",
       "      <td>Private Collection</td>\n",
       "      <td>NaN</td>\n",
       "      <td>https://uploads3.wikiart.org/images/edgar-dega...</td>\n",
       "      <td>Tree, mills-and-windmills, Sky</td>\n",
       "      <td>NaN</td>\n",
       "    </tr>\n",
       "    <tr>\n",
       "      <th>3</th>\n",
       "      <td>Self-portrait</td>\n",
       "      <td>Edgar Degas</td>\n",
       "      <td>NaN</td>\n",
       "      <td>1854</td>\n",
       "      <td>Impressionism</td>\n",
       "      <td>NaN</td>\n",
       "      <td>NaN</td>\n",
       "      <td>self-portrait</td>\n",
       "      <td>NaN</td>\n",
       "      <td>Louvre, Paris, France</td>\n",
       "      <td>NaN</td>\n",
       "      <td>https://uploads7.wikiart.org/images/edgar-dega...</td>\n",
       "      <td>Gentleman, Male</td>\n",
       "      <td>NaN</td>\n",
       "    </tr>\n",
       "    <tr>\n",
       "      <th>4</th>\n",
       "      <td>Self Portrait</td>\n",
       "      <td>Edgar Degas</td>\n",
       "      <td>NaN</td>\n",
       "      <td>1855</td>\n",
       "      <td>Impressionism</td>\n",
       "      <td>NaN</td>\n",
       "      <td>NaN</td>\n",
       "      <td>self-portrait</td>\n",
       "      <td>oil,canvas</td>\n",
       "      <td>Musée d'Orsay, Paris, France</td>\n",
       "      <td>NaN</td>\n",
       "      <td>https://uploads1.wikiart.org/images/edgar-dega...</td>\n",
       "      <td>Gentleman, Male</td>\n",
       "      <td>NaN</td>\n",
       "    </tr>\n",
       "  </tbody>\n",
       "</table>\n",
       "</div>"
      ],
      "text/plain": [
       "                                      Title         Painter Original Title  \\\n",
       "0  The Lake, Petworth, Sunset; Sample Study   J.M.W. Turner            NaN   \n",
       "1         Portrait of the Artist by Himself  Johan Jongkind            NaN   \n",
       "2             Landscape at Valery-sur-Somme     Edgar Degas            NaN   \n",
       "3                             Self-portrait     Edgar Degas            NaN   \n",
       "4                             Self Portrait     Edgar Degas            NaN   \n",
       "\n",
       "              Date                      Style Period Series  \\\n",
       "0  c.1827 - c.1828  Romanticism,Impressionism    NaN    NaN   \n",
       "1           c.1850              Impressionism    NaN    NaN   \n",
       "2             1854              Impressionism    NaN    NaN   \n",
       "3             1854              Impressionism    NaN    NaN   \n",
       "4             1855              Impressionism    NaN    NaN   \n",
       "\n",
       "                         Genre       Media                      Location  \\\n",
       "0  cloudscape,sketch and study         NaN      Tate Britain, London, UK   \n",
       "1                self-portrait  watercolor  Musée d'Orsay, Paris, France   \n",
       "2                    landscape  oil,canvas            Private Collection   \n",
       "3                self-portrait         NaN         Louvre, Paris, France   \n",
       "4                self-portrait  oil,canvas  Musée d'Orsay, Paris, France   \n",
       "\n",
       "     Dimensions                                            Img_url  \\\n",
       "0           NaN  https://uploads5.wikiart.org/00246/images/will...   \n",
       "1  20.5 x 17 cm  https://uploads4.wikiart.org/00283/images/joha...   \n",
       "2           NaN  https://uploads3.wikiart.org/images/edgar-dega...   \n",
       "3           NaN  https://uploads7.wikiart.org/images/edgar-dega...   \n",
       "4           NaN  https://uploads1.wikiart.org/images/edgar-dega...   \n",
       "\n",
       "                             Tags  Share  \n",
       "0                             NaN    NaN  \n",
       "1                             NaN    NaN  \n",
       "2  Tree, mills-and-windmills, Sky    NaN  \n",
       "3                 Gentleman, Male    NaN  \n",
       "4                 Gentleman, Male    NaN  "
      ]
     },
     "execution_count": 38,
     "metadata": {},
     "output_type": "execute_result"
    }
   ],
   "source": [
    "dataset_ip.head()"
   ]
  },
  {
   "cell_type": "code",
   "execution_count": 35,
   "id": "13bae428",
   "metadata": {},
   "outputs": [],
   "source": [
    "# Save the list of failed URLs to a pickle file\n",
    "file = open(\"c:/data/failed_url_pi.txt\", \"wb\")\n",
    "pickle.dump(failed_url_ip, file)\n",
    "file.close()"
   ]
  },
  {
   "cell_type": "code",
   "execution_count": 36,
   "id": "0180ce83",
   "metadata": {},
   "outputs": [],
   "source": [
    "# Save the collected dataset to a CSV file\n",
    "dataset_ip.to_csv('c:/data/dataset_ip.csv', index=False)"
   ]
  },
  {
   "cell_type": "code",
   "execution_count": 42,
   "id": "abee4b09",
   "metadata": {},
   "outputs": [],
   "source": [
    "# Load the CSV\n",
    "\n",
    "import pandas as pd\n",
    "\n",
    "dataset_ip = pd.read_csv(\"c:/data/dataset_ip.csv\") "
   ]
  },
  {
   "cell_type": "markdown",
   "id": "61bd020b",
   "metadata": {},
   "source": [
    "<br>"
   ]
  },
  {
   "cell_type": "markdown",
   "id": "c2809f03",
   "metadata": {},
   "source": [
    "# Downloading Painting Images with Image URLs"
   ]
  },
  {
   "cell_type": "code",
   "execution_count": null,
   "id": "533159f2",
   "metadata": {},
   "outputs": [],
   "source": [
    "from selenium import webdriver\n",
    "from selenium.webdriver.chrome.service import Service\n",
    "from webdriver_manager.chrome import ChromeDriverManager\n",
    "from selenium.webdriver.common.by import By\n",
    "from selenium.webdriver.common.keys import Keys\n",
    "from selenium.webdriver import ActionChains\n",
    "from bs4 import BeautifulSoup\n",
    "import time\n",
    "import re\n",
    "from pandas import Series,DataFrame\n",
    "import pandas as pd\n",
    "from urllib.request import urlopen\n",
    "from bs4 import BeautifulSoup\n",
    "import urllib.request as req\n",
    "\n",
    "failed_img_url_ip = []  # List to store URLs of images that fail to download\n",
    "n = 0  # Initialize counter for tracking the number of images processed\n",
    "\n",
    "# Loop through each image URL in the dataset\n",
    "for i in dataset_ip.Img_url:\n",
    "    try:\n",
    "        # Split the URL into its components\n",
    "        scheme, netloc, path, query, fragment = parse.urlsplit(i)\n",
    "        \n",
    "        # Quote the path to handle any special characters\n",
    "        path = parse.quote(path)\n",
    "        \n",
    "        # Reconstruct the URL with the quoted path\n",
    "        link = parse.urlunsplit((scheme, netloc, path, query, fragment))\n",
    "        \n",
    "        # Retrieve the image from the URL and save it to the specified location on the local machine\n",
    "        req.urlretrieve(link, f'C:/art/impressionism/ip_{n}.jpg')\n",
    "        # print(f'Successfully saved the {n}th image')\n",
    "        \n",
    "    except:\n",
    "        # If there's an exception (e.g., image fails to download), add the URL to the failed_img_url_ip list\n",
    "        failed_img_url_ip.append(i)\n",
    "         # print(f'Failed to save the {n}th image...')\n",
    "    \n",
    "    # Increment the counter\n",
    "    n += 1"
   ]
  },
  {
   "cell_type": "code",
   "execution_count": 45,
   "id": "7a2a8ad5",
   "metadata": {},
   "outputs": [
    {
     "data": {
      "text/plain": [
       "0"
      ]
     },
     "execution_count": 45,
     "metadata": {},
     "output_type": "execute_result"
    }
   ],
   "source": [
    "len(failed_img_url_ip)"
   ]
  },
  {
   "cell_type": "code",
   "execution_count": 46,
   "id": "f330a671",
   "metadata": {},
   "outputs": [],
   "source": [
    "import pickle\n",
    "\n",
    "file = open(\"c:/data/failed_img_url_ip.txt\",\"wb\")\n",
    "pickle.dump(failed_img_url_ip, file)\n",
    "file.close()"
   ]
  },
  {
   "cell_type": "markdown",
   "id": "4737b7d2",
   "metadata": {},
   "source": [
    "<br>"
   ]
  },
  {
   "cell_type": "markdown",
   "id": "554e6e2a",
   "metadata": {},
   "source": [
    "# Preprocessing Data with shutil.move"
   ]
  },
  {
   "cell_type": "markdown",
   "id": "6a2ef175",
   "metadata": {},
   "source": [
    "- In the initial preprocessing, we excluded multi-style images, sketches, sculptures, and illustrations"
   ]
  },
  {
   "cell_type": "code",
   "execution_count": null,
   "id": "25385daf",
   "metadata": {},
   "outputs": [],
   "source": [
    "! pip install shutils"
   ]
  },
  {
   "cell_type": "code",
   "execution_count": 47,
   "id": "795fb196",
   "metadata": {},
   "outputs": [
    {
     "data": {
      "text/plain": [
       "204"
      ]
     },
     "execution_count": 47,
     "metadata": {},
     "output_type": "execute_result"
    }
   ],
   "source": [
    "import pandas as pd\n",
    "\n",
    "dataset_ip = pd.read_csv(\"c:/data/dataset_ip.csv\") \n",
    "\n",
    "# Extracting index of multi-style paintings, sketches, sculptures, and illustrations\n",
    "index = list(dataset_ip[dataset_ip.Style.str.contains(',') |\n",
    "                        dataset_ip.Genre.str.contains('sketch') | \n",
    "                        dataset_ip.Genre.str.contains('sculpture') | \n",
    "                        dataset_ip.Genre.str.contains('illustration')].index)\n",
    "len(index)"
   ]
  },
  {
   "cell_type": "code",
   "execution_count": 48,
   "id": "1794d2f6",
   "metadata": {},
   "outputs": [],
   "source": [
    "import shutil\n",
    "\n",
    "# Loop through the specified file paths (constructed using list comprehension and based on provided indices)\n",
    "for j in [f'c:/art/impressionism/ip_{i}.jpg' for i in index]:\n",
    "    # Move each image file from its current directory to a new directory (ip_delete_1) on the Desktop\n",
    "    shutil.move(j, 'C:/Users/koohy/Desktop/ip_delete_1')"
   ]
  },
  {
   "cell_type": "markdown",
   "id": "5dca663c",
   "metadata": {},
   "source": [
    "<br>"
   ]
  },
  {
   "cell_type": "markdown",
   "id": "a9727434",
   "metadata": {},
   "source": [
    "**Note** :\n",
    "\n",
    "- After this, we removed all black and white images as well as non-square paintings during the project (but not in the demonstration)\n",
    "- Additionally, we cropped the frames from the images\n",
    "- Lastly, we narrowed down the styles from 15 to 7, selecting those that not only had a greater number of paintings but also achieved the highest accuracy with the model"
   ]
  }
 ],
 "metadata": {
  "kernelspec": {
   "display_name": "Python 3 (ipykernel)",
   "language": "python",
   "name": "python3"
  },
  "language_info": {
   "codemirror_mode": {
    "name": "ipython",
    "version": 3
   },
   "file_extension": ".py",
   "mimetype": "text/x-python",
   "name": "python",
   "nbconvert_exporter": "python",
   "pygments_lexer": "ipython3",
   "version": "3.9.13"
  }
 },
 "nbformat": 4,
 "nbformat_minor": 5
}
